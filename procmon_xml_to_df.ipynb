{
 "cells": [
  {
   "cell_type": "code",
   "execution_count": null,
   "metadata": {},
   "outputs": [],
   "source": [
    "import xml.etree.ElementTree as ET\n",
    "import json\n",
    "import pathlib\n",
    "import pandas as pd\n",
    "tree = ET.parse('Logfilesymbols-restartservice-manual-all.XML')\n",
    "root = tree.getroot()"
   ]
  },
  {
   "cell_type": "code",
   "execution_count": null,
   "metadata": {},
   "outputs": [],
   "source": [
    "proc_list = root[0]\n",
    "event_list = root[1]\n"
   ]
  },
  {
   "cell_type": "code",
   "execution_count": null,
   "metadata": {},
   "outputs": [],
   "source": [
    "procmon_procs = []\n",
    "\n",
    "for proc in proc_list:\n",
    "    proc_info = {}\n",
    "\n",
    "    for elem in proc:\n",
    "        if elem.tag == 'modulelist':\n",
    "            mod_paths = []\n",
    "            mod_info = {}\n",
    "            for mod in elem:\n",
    "                for mod_elem in mod:\n",
    "                    mod_info[mod_elem.tag] = mod_elem.text\n",
    "                    print(mod_elem.tag, mod_elem.text)\n",
    "                    if mod_elem.tag == 'Path':\n",
    "                        mod_paths.append(mod_elem.text)\n",
    "            proc_info['modulelist_paths'] = mod_paths \n",
    "\n",
    "        else:\n",
    "            proc_info[elem.tag] = elem.text\n",
    "            print(elem.tag, elem.text)\n",
    "    procmon_procs.append(proc_info)"
   ]
  },
  {
   "cell_type": "code",
   "execution_count": null,
   "metadata": {},
   "outputs": [],
   "source": [
    "procmon_events = []\n",
    "\n",
    "for event in event_list:\n",
    "    event_info = {}\n",
    "\n",
    "    for elem in event:\n",
    "        event_info[elem.tag] = elem.text\n",
    "    print(event_info)\n",
    "    procmon_events.append(event_info)"
   ]
  },
  {
   "cell_type": "code",
   "execution_count": null,
   "metadata": {},
   "outputs": [],
   "source": [
    "pd.read_json(json.dumps(procmon_events))"
   ]
  },
  {
   "cell_type": "code",
   "execution_count": null,
   "metadata": {},
   "outputs": [],
   "source": [
    "procs_df = pd.read_json(json.dumps(procmon_procs))\n",
    "procs_df"
   ]
  },
  {
   "cell_type": "code",
   "execution_count": null,
   "metadata": {},
   "outputs": [],
   "source": [
    "procs_df['modulelist_paths']"
   ]
  }
 ],
 "metadata": {
  "kernelspec": {
   "display_name": ".env",
   "language": "python",
   "name": "python3"
  },
  "language_info": {
   "codemirror_mode": {
    "name": "ipython",
    "version": 3
   },
   "file_extension": ".py",
   "mimetype": "text/x-python",
   "name": "python",
   "nbconvert_exporter": "python",
   "pygments_lexer": "ipython3",
   "version": "3.10.8"
  },
  "orig_nbformat": 4
 },
 "nbformat": 4,
 "nbformat_minor": 2
}
